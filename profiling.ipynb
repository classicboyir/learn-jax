{
 "cells": [
  {
   "cell_type": "markdown",
   "metadata": {},
   "source": [
    "## Profiling\n",
    "\n",
    "In this notebook, we provide the hints on how to profile your `Jax` opeartions using `tensorboard`. You can start the trace by the jax.profiler.start_trace and stop it with jax.profiler.stop_trace. The tfb files are created when you stop the trace."
   ]
  },
  {
   "cell_type": "code",
   "execution_count": 1,
   "metadata": {},
   "outputs": [
    {
     "name": "stderr",
     "output_type": "stream",
     "text": [
      "2024-03-15 15:24:39.153902: W tensorflow/compiler/tf2tensorrt/utils/py_utils.cc:38] TF-TRT Warning: Could not find TensorRT\n"
     ]
    }
   ],
   "source": [
    "import jax\n",
    "\n",
    "jax.profiler.start_trace(\"/tmp/tensorboard\")\n"
   ]
  },
  {
   "cell_type": "code",
   "execution_count": 2,
   "metadata": {},
   "outputs": [
    {
     "data": {
      "text/plain": [
       "Array([[ 47.920322 ,  40.61542  , -90.649574 , ...,  52.049362 ,\n",
       "        -20.947758 ,  40.243233 ],\n",
       "       [100.14533  ,  75.95863  ,   8.045022 , ...,  34.454742 ,\n",
       "         73.71948  , -73.94851  ],\n",
       "       [ 59.411285 , -19.113668 , 103.33147  , ..., -82.41826  ,\n",
       "          0.8490505, -65.81711  ],\n",
       "       ...,\n",
       "       [103.233406 , -53.554756 ,  62.39561  , ...,  26.34784  ,\n",
       "        -66.73642  , -97.97357  ],\n",
       "       [-24.75749  ,  89.01694  ,  78.972565 , ...,  -8.861553 ,\n",
       "         39.86321  , 153.73242  ],\n",
       "       [ 18.95243  , -44.06228  ,   0.7189355, ..., -56.365105 ,\n",
       "        121.329544 , -76.43313  ]], dtype=float32)"
      ]
     },
     "execution_count": 2,
     "metadata": {},
     "output_type": "execute_result"
    }
   ],
   "source": [
    "key = jax.random.key(0)\n",
    "x = jax.random.normal(key, (5000, 5000))\n",
    "y = x @ x\n",
    "y.block_until_ready()\n"
   ]
  },
  {
   "cell_type": "code",
   "execution_count": 6,
   "metadata": {},
   "outputs": [],
   "source": [
    "jax.profiler.stop_trace()\n"
   ]
  },
  {
   "cell_type": "markdown",
   "metadata": {},
   "source": [
    "kick off tot hte tb portal\n",
    "\n",
    "```shell\n",
    "tensorboard --logdir=/tmp/tensorboard\n",
    "```"
   ]
  },
  {
   "cell_type": "code",
   "execution_count": null,
   "metadata": {},
   "outputs": [],
   "source": []
  }
 ],
 "metadata": {
  "kernelspec": {
   "display_name": "tpu",
   "language": "python",
   "name": "python3"
  },
  "language_info": {
   "codemirror_mode": {
    "name": "ipython",
    "version": 3
   },
   "file_extension": ".py",
   "mimetype": "text/x-python",
   "name": "python",
   "nbconvert_exporter": "python",
   "pygments_lexer": "ipython3",
   "version": "3.10.13"
  }
 },
 "nbformat": 4,
 "nbformat_minor": 2
}
