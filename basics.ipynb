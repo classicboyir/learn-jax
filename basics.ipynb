{
 "cells": [
  {
   "cell_type": "code",
   "execution_count": 1,
   "metadata": {},
   "outputs": [],
   "source": [
    "import jax"
   ]
  },
  {
   "cell_type": "code",
   "execution_count": 2,
   "metadata": {},
   "outputs": [
    {
     "data": {
      "text/plain": [
       "[TpuDevice(id=0, process_index=0, coords=(0,0,0), core_on_chip=0),\n",
       " TpuDevice(id=1, process_index=0, coords=(1,0,0), core_on_chip=0),\n",
       " TpuDevice(id=2, process_index=0, coords=(0,1,0), core_on_chip=0),\n",
       " TpuDevice(id=3, process_index=0, coords=(1,1,0), core_on_chip=0)]"
      ]
     },
     "execution_count": 2,
     "metadata": {},
     "output_type": "execute_result"
    }
   ],
   "source": [
    "jax.devices()"
   ]
  },
  {
   "cell_type": "code",
   "execution_count": 3,
   "metadata": {},
   "outputs": [],
   "source": [
    "import jax.numpy as jnp\n",
    "from jax import random\n",
    "import jax"
   ]
  },
  {
   "cell_type": "code",
   "execution_count": 5,
   "metadata": {},
   "outputs": [
    {
     "name": "stdout",
     "output_type": "stream",
     "text": [
      "(5000, 5000)\n",
      "float32\n"
     ]
    }
   ],
   "source": [
    "x = jax.random.normal(random.PRNGKey(0), (5_000, 5_000))\n",
    "\n",
    "print(x.shape)\n",
    "print(x.dtype)"
   ]
  },
  {
   "cell_type": "code",
   "execution_count": 6,
   "metadata": {},
   "outputs": [
    {
     "data": {
      "text/plain": [
       "Array([[-0.11661171,  0.8242215 , -1.2445085 , ..., -1.8854173 ,\n",
       "         0.41252783, -0.961976  ],\n",
       "       [ 1.8455055 , -0.30786476, -1.0153097 , ..., -0.01620289,\n",
       "         2.0080993 , -0.9451337 ],\n",
       "       [-0.67672527,  0.4280688 , -0.46904287, ...,  0.7997399 ,\n",
       "         0.10403793, -1.2848098 ],\n",
       "       ...,\n",
       "       [ 0.60997057, -1.3257729 , -0.86143535, ..., -2.6257322 ,\n",
       "        -1.2271131 ,  0.61286527],\n",
       "       [ 1.0326647 ,  0.592573  , -0.10977031, ...,  0.2430163 ,\n",
       "        -0.5956606 , -1.4219506 ],\n",
       "       [ 2.1604197 , -0.2298865 , -1.0518851 , ...,  1.6659708 ,\n",
       "        -0.31161797,  1.3135116 ]], dtype=float32)"
      ]
     },
     "execution_count": 6,
     "metadata": {},
     "output_type": "execute_result"
    }
   ],
   "source": [
    "x"
   ]
  },
  {
   "cell_type": "code",
   "execution_count": 7,
   "metadata": {},
   "outputs": [
    {
     "name": "stdout",
     "output_type": "stream",
     "text": [
      "[[[ -6.0566964  53.154293   47.546646  ... -32.643036   23.932243\n",
      "   -32.559704 ]]\n",
      "\n",
      " [[ -2.876449   14.091277   28.160069  ...  72.67386    30.46049\n",
      "    54.96488  ]]\n",
      "\n",
      " [[-58.108154  -35.2848    -48.49509   ... -32.48123   -15.550288\n",
      "     3.571836 ]]\n",
      "\n",
      " [[ -6.0566964  53.154293   47.546646  ... -32.643036   23.932243\n",
      "   -32.559704 ]]]\n"
     ]
    }
   ],
   "source": [
    "y = jnp.dot(x, jnp.cos(x))\n",
    "z = y[[0, 2, 1, 0], ..., None, ::-1]\n",
    "\n",
    "print(z)"
   ]
  },
  {
   "cell_type": "code",
   "execution_count": 8,
   "metadata": {},
   "outputs": [
    {
     "data": {
      "text/plain": [
       "[<matplotlib.lines.Line2D at 0x7f522437e130>]"
      ]
     },
     "execution_count": 8,
     "metadata": {},
     "output_type": "execute_result"
    },
    {
     "data": {
      "image/png": "[encoded data removed]",
      "text/plain": [
       "<Figure size 640x480 with 1 Axes>"
      ]
     },
     "metadata": {},
     "output_type": "display_data"
    }
   ],
   "source": [
    "import matplotlib.pyplot as plt\n",
    "\n",
    "plt.plot(x[0])"
   ]
  },
  {
   "cell_type": "code",
   "execution_count": 9,
   "metadata": {},
   "outputs": [
    {
     "name": "stdout",
     "output_type": "stream",
     "text": [
      "1.35 ms ± 60.8 µs per loop (mean ± std. dev. of 5 runs, 5 loops each)\n"
     ]
    }
   ],
   "source": [
    "%timeit -n 5 -r 5 jnp.dot(x, x).block_until_ready()"
   ]
  },
  {
   "cell_type": "code",
   "execution_count": 10,
   "metadata": {},
   "outputs": [],
   "source": [
    "import numpy as np\n",
    "x_cpu = np.array(x)"
   ]
  },
  {
   "cell_type": "code",
   "execution_count": 11,
   "metadata": {},
   "outputs": [
    {
     "name": "stdout",
     "output_type": "stream",
     "text": [
      "178 ms ± 2.68 ms per loop (mean ± std. dev. of 5 runs, 5 loops each)\n"
     ]
    }
   ],
   "source": [
    "%timeit -n 5 -r 5 np.dot(x, x)"
   ]
  },
  {
   "cell_type": "markdown",
   "metadata": {},
   "source": [
    "### Automatic Differentiation"
   ]
  },
  {
   "cell_type": "code",
   "execution_count": 12,
   "metadata": {},
   "outputs": [],
   "source": [
    "from jax import grad"
   ]
  },
  {
   "cell_type": "code",
   "execution_count": 44,
   "metadata": {},
   "outputs": [],
   "source": [
    "def f(x, y):\n",
    "    if x > 0:\n",
    "        return 2 * x ** 3\n",
    "    else:\n",
    "        return 3 * x"
   ]
  },
  {
   "cell_type": "code",
   "execution_count": 27,
   "metadata": {},
   "outputs": [
    {
     "data": {
      "text/plain": [
       "24"
      ]
     },
     "execution_count": 27,
     "metadata": {},
     "output_type": "execute_result"
    }
   ],
   "source": [
    "2 * 3 * 2 ** 2"
   ]
  },
  {
   "cell_type": "markdown",
   "metadata": {},
   "source": []
  },
  {
   "cell_type": "code",
   "execution_count": 25,
   "metadata": {},
   "outputs": [
    {
     "name": "stdout",
     "output_type": "stream",
     "text": [
      "24.0\n",
      "3.0\n"
     ]
    }
   ],
   "source": [
    "x = 2.0\n",
    "y=2\n",
    "\n",
    "print(grad(f)(x, y))\n",
    "print(grad(f)(-x, y))"
   ]
  },
  {
   "cell_type": "code",
   "execution_count": 75,
   "metadata": {},
   "outputs": [],
   "source": [
    "def predict(params, inputs):\n",
    "    for W, b in params:\n",
    "        outputs = jnp.dot(inputs, W) + b\n",
    "        inputs = jnp.maximum(outputs, 0)\n",
    "    return outputs\n",
    "\n",
    "def loss(params, batch):\n",
    "    print(\"compiled\")\n",
    "    inputs, targets = batch\n",
    "    predictions = predict(params, inputs)\n",
    "    return jnp.sum((predictions - targets) ** 2)\n"
   ]
  },
  {
   "cell_type": "code",
   "execution_count": 29,
   "metadata": {},
   "outputs": [],
   "source": [
    "def init_layer(key, n_in, n_out):\n",
    "    k1, k2 = random.split(key)\n",
    "    W = random.normal(k1, (n_in, n_out)) / jnp.sqrt(n_in)\n",
    "    b = random.normal(k2, (n_out, ))\n",
    "    return W, b\n",
    "\n",
    "def init_model(key, layer_sizes, batch_sizes):\n",
    "    key, *keys = random.split(key, len(layer_sizes))\n",
    "    params = list(map(init_layer, keys, layer_sizes[:-1], layer_sizes[1:]))\n",
    "\n",
    "    key, *keys = random.split(key, 3)\n",
    "    inputs = random.normal(keys[0], (batch_sizes, layer_sizes[0]))\n",
    "    targets = random.normal(keys[0], (batch_sizes, layer_sizes[-1]))\n",
    "\n",
    "    return params, (inputs, targets)\n",
    "\n",
    "layer_sizes = [768, 2048, 2048, 10]\n",
    "batch_sizes = 128\n",
    "\n",
    "params, batch = init_model(random.PRNGKey(0), layer_sizes, batch_sizes)\n"
   ]
  },
  {
   "cell_type": "code",
   "execution_count": 30,
   "metadata": {},
   "outputs": [
    {
     "name": "stdout",
     "output_type": "stream",
     "text": [
      "4799.5283\n"
     ]
    }
   ],
   "source": [
    "print(loss(params, batch))"
   ]
  },
  {
   "cell_type": "code",
   "execution_count": 33,
   "metadata": {},
   "outputs": [],
   "source": [
    "step_size = 1e-5\n",
    "\n",
    "for _ in range(30):\n",
    "    grads = grad(loss)(params, batch)\n",
    "    params = [[W - step_size * dW, b - step_size * db] for (W, b), (dW, db) in zip(params, grads)]"
   ]
  },
  {
   "cell_type": "code",
   "execution_count": 57,
   "metadata": {},
   "outputs": [
    {
     "name": "stdout",
     "output_type": "stream",
     "text": [
      "1123.1339\n"
     ]
    }
   ],
   "source": [
    "print(loss(params, batch))"
   ]
  },
  {
   "cell_type": "code",
   "execution_count": 79,
   "metadata": {},
   "outputs": [],
   "source": [
    "from jax import jit\n",
    "\n",
    "loss_jit = jit(loss)"
   ]
  },
  {
   "cell_type": "code",
   "execution_count": 39,
   "metadata": {},
   "outputs": [
    {
     "name": "stdout",
     "output_type": "stream",
     "text": [
      "1.37 ms ± 775 µs per loop (mean ± std. dev. of 5 runs, 5 loops each)\n"
     ]
    }
   ],
   "source": [
    "%timeit -n 5 -r 5 loss(params, batch).block_until_ready()"
   ]
  },
  {
   "cell_type": "code",
   "execution_count": 41,
   "metadata": {},
   "outputs": [
    {
     "name": "stdout",
     "output_type": "stream",
     "text": [
      "357 µs ± 209 µs per loop (mean ± std. dev. of 5 runs, 5 loops each)\n"
     ]
    }
   ],
   "source": [
    "%timeit -n 5 -r 5 loss_jit(params, batch).block_until_ready()"
   ]
  },
  {
   "cell_type": "markdown",
   "metadata": {},
   "source": [
    "This breaks as the function depends on the value of the boolean operation. "
   ]
  },
  {
   "cell_type": "code",
   "execution_count": 62,
   "metadata": {},
   "outputs": [],
   "source": [
    "@jit\n",
    "def b(x):\n",
    "    if x > 0:\n",
    "        return 2 * x ** 3\n",
    "    else:\n",
    "        return 3 * x"
   ]
  },
  {
   "cell_type": "code",
   "execution_count": 52,
   "metadata": {},
   "outputs": [
    {
     "ename": "ConcretizationTypeError",
     "evalue": "Abstract tracer value encountered where concrete value is expected: traced array with shape float32[].\nThe problem arose with the `bool` function. \nThe error occurred while tracing the function b at /tmp/ipykernel_351618/1897715206.py:1 for jit. This concrete value was not available in Python because it depends on the value of the argument x.\n\nSee https://jax.readthedocs.io/en/latest/errors.html#jax.errors.ConcretizationTypeError",
     "output_type": "error",
     "traceback": [
      "\u001b[0;31m---------------------------------------------------------------------------\u001b[0m",
      "\u001b[0;31mConcretizationTypeError\u001b[0m                   Traceback (most recent call last)",
      "Cell \u001b[0;32mIn[52], line 1\u001b[0m\n\u001b[0;32m----> 1\u001b[0m \u001b[43mb\u001b[49m\u001b[43m(\u001b[49m\u001b[38;5;241;43m2.3\u001b[39;49m\u001b[43m)\u001b[49m\n",
      "    \u001b[0;31m[... skipping hidden 12 frame]\u001b[0m\n",
      "Cell \u001b[0;32mIn[49], line 3\u001b[0m, in \u001b[0;36mb\u001b[0;34m(x)\u001b[0m\n\u001b[1;32m      1\u001b[0m \u001b[38;5;129m@jit\u001b[39m\n\u001b[1;32m      2\u001b[0m \u001b[38;5;28;01mdef\u001b[39;00m \u001b[38;5;21mb\u001b[39m(x):\n\u001b[0;32m----> 3\u001b[0m     \u001b[38;5;28;01mif\u001b[39;00m x:\n\u001b[1;32m      4\u001b[0m         \u001b[38;5;28;01mreturn\u001b[39;00m \u001b[38;5;241m2\u001b[39m \u001b[38;5;241m*\u001b[39m x \u001b[38;5;241m*\u001b[39m\u001b[38;5;241m*\u001b[39m \u001b[38;5;241m3\u001b[39m\n\u001b[1;32m      5\u001b[0m     \u001b[38;5;28;01melse\u001b[39;00m:\n",
      "    \u001b[0;31m[... skipping hidden 1 frame]\u001b[0m\n",
      "File \u001b[0;32m~/.local/lib/python3.8/site-packages/jax/_src/core.py:1370\u001b[0m, in \u001b[0;36mconcretization_function_error.<locals>.error\u001b[0;34m(self, arg)\u001b[0m\n\u001b[1;32m   1369\u001b[0m \u001b[38;5;28;01mdef\u001b[39;00m \u001b[38;5;21merror\u001b[39m(\u001b[38;5;28mself\u001b[39m, arg):\n\u001b[0;32m-> 1370\u001b[0m   \u001b[38;5;28;01mraise\u001b[39;00m ConcretizationTypeError(arg, fname_context)\n",
      "\u001b[0;31mConcretizationTypeError\u001b[0m: Abstract tracer value encountered where concrete value is expected: traced array with shape float32[].\nThe problem arose with the `bool` function. \nThe error occurred while tracing the function b at /tmp/ipykernel_351618/1897715206.py:1 for jit. This concrete value was not available in Python because it depends on the value of the argument x.\n\nSee https://jax.readthedocs.io/en/latest/errors.html#jax.errors.ConcretizationTypeError"
     ]
    }
   ],
   "source": [
    "b(2.3)"
   ]
  },
  {
   "cell_type": "markdown",
   "metadata": {},
   "source": [
    "**Note** - Compilation happens when you run the jitted function for the first time. This is to figure out the shaps of the input and output parameters."
   ]
  },
  {
   "cell_type": "code",
   "execution_count": 69,
   "metadata": {},
   "outputs": [],
   "source": [
    "@jit\n",
    "def test_c(x):\n",
    "    print('compilation!')\n",
    "    return x + 1"
   ]
  },
  {
   "cell_type": "code",
   "execution_count": 70,
   "metadata": {},
   "outputs": [
    {
     "name": "stdout",
     "output_type": "stream",
     "text": [
      "compilation!\n"
     ]
    },
    {
     "data": {
      "text/plain": [
       "Array(2, dtype=int32, weak_type=True)"
      ]
     },
     "execution_count": 70,
     "metadata": {},
     "output_type": "execute_result"
    }
   ],
   "source": [
    "test_c(1)"
   ]
  },
  {
   "cell_type": "code",
   "execution_count": 71,
   "metadata": {},
   "outputs": [
    {
     "data": {
      "text/plain": [
       "Array(2, dtype=int32, weak_type=True)"
      ]
     },
     "execution_count": 71,
     "metadata": {},
     "output_type": "execute_result"
    }
   ],
   "source": [
    "test_c(1)"
   ]
  },
  {
   "cell_type": "markdown",
   "metadata": {},
   "source": [
    "And if I change the value shape and type of x, then the recompilation occurs:"
   ]
  },
  {
   "cell_type": "code",
   "execution_count": 73,
   "metadata": {},
   "outputs": [
    {
     "name": "stdout",
     "output_type": "stream",
     "text": [
      "compilation!\n"
     ]
    },
    {
     "data": {
      "text/plain": [
       "Array([2., 2.], dtype=float32)"
      ]
     },
     "execution_count": 73,
     "metadata": {},
     "output_type": "execute_result"
    }
   ],
   "source": [
    "test_c(jnp.ones(2,))"
   ]
  },
  {
   "cell_type": "code",
   "execution_count": 74,
   "metadata": {},
   "outputs": [
    {
     "data": {
      "text/plain": [
       "Array([2., 2.], dtype=float32)"
      ]
     },
     "execution_count": 74,
     "metadata": {},
     "output_type": "execute_result"
    }
   ],
   "source": [
    "test_c(jnp.ones(2,))"
   ]
  },
  {
   "cell_type": "markdown",
   "metadata": {},
   "source": [
    "### Vectorized batching with `vmap`"
   ]
  },
  {
   "cell_type": "code",
   "execution_count": 84,
   "metadata": {},
   "outputs": [],
   "source": [
    "from jax import vmap"
   ]
  },
  {
   "cell_type": "code",
   "execution_count": 85,
   "metadata": {},
   "outputs": [],
   "source": [
    "def l1_distance(x, y):\n",
    "    assert x.ndim == y.ndim == 1\n",
    "    return jnp.sum(jnp.abs(x - y))"
   ]
  },
  {
   "cell_type": "code",
   "execution_count": 86,
   "metadata": {},
   "outputs": [],
   "source": [
    "xs = random.normal(random.PRNGKey(0), (20, 3))\n",
    "ys = random.normal(random.PRNGKey(1), (20, 3))"
   ]
  },
  {
   "cell_type": "markdown",
   "metadata": {},
   "source": [
    "One way to calculate the distance between xs and ys is via for loop:"
   ]
  },
  {
   "cell_type": "code",
   "execution_count": 88,
   "metadata": {},
   "outputs": [
    {
     "name": "stdout",
     "output_type": "stream",
     "text": [
      "[3.6301844 1.7817496 1.4172812 2.4606237 4.1310067 2.0906708 4.295821\n",
      " 7.117482  2.7141416 1.8987863 5.802227  4.764351  2.0886056 4.6499496\n",
      " 4.5517654 3.4096887 3.7719631 7.7453556 3.1071754 4.7238436]\n"
     ]
    }
   ],
   "source": [
    "dists = jnp.stack([l1_distance(x, y) for x, y in zip(xs, ys)])\n",
    "print(dists)"
   ]
  },
  {
   "cell_type": "markdown",
   "metadata": {},
   "source": [
    "Or simply by vmap we can perform the same operation in a batch mode:"
   ]
  },
  {
   "cell_type": "code",
   "execution_count": 92,
   "metadata": {},
   "outputs": [
    {
     "data": {
      "text/plain": [
       "Array([3.6301844, 1.7817496, 1.4172812, 2.4606237, 4.1310067, 2.0906708,\n",
       "       4.295821 , 7.117482 , 2.7141416, 1.8987863, 5.802227 , 4.764351 ,\n",
       "       2.0886056, 4.6499496, 4.5517654, 3.4096887, 3.7719631, 7.7453556,\n",
       "       3.1071754, 4.7238436], dtype=float32)"
      ]
     },
     "execution_count": 92,
     "metadata": {},
     "output_type": "execute_result"
    }
   ],
   "source": [
    "dists_vmap = vmap(l1_distance)(xs, ys)\n",
    "dists_vmap"
   ]
  },
  {
   "cell_type": "markdown",
   "metadata": {},
   "source": [
    "Clearly, the vmap is many times faster - similar to training on mini batches that better utilizes the power of the parallelized accelerator"
   ]
  },
  {
   "cell_type": "code",
   "execution_count": 93,
   "metadata": {},
   "outputs": [
    {
     "name": "stdout",
     "output_type": "stream",
     "text": [
      "8.01 ms ± 346 µs per loop (mean ± std. dev. of 5 runs, 5 loops each)\n"
     ]
    }
   ],
   "source": [
    "%timeit -n 5 -r 5 jnp.stack([l1_distance(x, y) for x, y in zip(xs, ys)]).block_until_ready()"
   ]
  },
  {
   "cell_type": "code",
   "execution_count": 94,
   "metadata": {},
   "outputs": [
    {
     "name": "stdout",
     "output_type": "stream",
     "text": [
      "1.85 ms ± 232 µs per loop (mean ± std. dev. of 5 runs, 5 loops each)\n"
     ]
    }
   ],
   "source": [
    "%timeit -n 5 -r 5 vmap(l1_distance)(xs, ys).block_until_ready()"
   ]
  },
  {
   "cell_type": "code",
   "execution_count": 99,
   "metadata": {},
   "outputs": [
    {
     "data": {
      "text/plain": [
       "{ \u001b[34m\u001b[22m\u001b[1mlambda \u001b[39m\u001b[22m\u001b[22m; a\u001b[35m:f32[20,3]\u001b[39m b\u001b[35m:f32[20,3]\u001b[39m. \u001b[34m\u001b[22m\u001b[1mlet\n",
       "    \u001b[39m\u001b[22m\u001b[22mc\u001b[35m:f32[20,3]\u001b[39m = sub a b\n",
       "    d\u001b[35m:f32[20,3]\u001b[39m = abs c\n",
       "    e\u001b[35m:f32[20]\u001b[39m = reduce_sum[axes=(1,)] d\n",
       "  \u001b[34m\u001b[22m\u001b[1min \u001b[39m\u001b[22m\u001b[22m(e,) }"
      ]
     },
     "execution_count": 99,
     "metadata": {},
     "output_type": "execute_result"
    }
   ],
   "source": [
    "# to visualize the compiled function \n",
    "from jax import make_jaxpr\n",
    "\n",
    "make_jaxpr(vmap(l1_distance))(xs, ys)"
   ]
  },
  {
   "cell_type": "code",
   "execution_count": 100,
   "metadata": {},
   "outputs": [
    {
     "data": {
      "text/plain": [
       "{ \u001b[34m\u001b[22m\u001b[1mlambda \u001b[39m\u001b[22m\u001b[22m; a\u001b[35m:f32[768,2048]\u001b[39m b\u001b[35m:f32[2048]\u001b[39m c\u001b[35m:f32[2048,2048]\u001b[39m d\u001b[35m:f32[2048]\u001b[39m e\u001b[35m:f32[2048,10]\u001b[39m\n",
       "    f\u001b[35m:f32[10]\u001b[39m g\u001b[35m:f32[128,768]\u001b[39m h\u001b[35m:f32[128,10]\u001b[39m. \u001b[34m\u001b[22m\u001b[1mlet\n",
       "    \u001b[39m\u001b[22m\u001b[22mi\u001b[35m:f32[]\u001b[39m = pjit[\n",
       "      jaxpr={ \u001b[34m\u001b[22m\u001b[1mlambda \u001b[39m\u001b[22m\u001b[22m; j\u001b[35m:f32[768,2048]\u001b[39m k\u001b[35m:f32[2048]\u001b[39m l\u001b[35m:f32[2048,2048]\u001b[39m m\u001b[35m:f32[2048]\u001b[39m n\u001b[35m:f32[2048,10]\u001b[39m\n",
       "          o\u001b[35m:f32[10]\u001b[39m p\u001b[35m:f32[128,768]\u001b[39m q\u001b[35m:f32[128,10]\u001b[39m. \u001b[34m\u001b[22m\u001b[1mlet\n",
       "          \u001b[39m\u001b[22m\u001b[22mr\u001b[35m:f32[128,2048]\u001b[39m = dot_general[\n",
       "            dimension_numbers=(([1], [0]), ([], []))\n",
       "          ] p j\n",
       "          s\u001b[35m:f32[1,2048]\u001b[39m = broadcast_in_dim[\n",
       "            broadcast_dimensions=(1,)\n",
       "            shape=(1, 2048)\n",
       "          ] k\n",
       "          t\u001b[35m:f32[128,2048]\u001b[39m = add r s\n",
       "          u\u001b[35m:f32[128,2048]\u001b[39m = max t 0.0\n",
       "          v\u001b[35m:f32[128,2048]\u001b[39m = dot_general[\n",
       "            dimension_numbers=(([1], [0]), ([], []))\n",
       "          ] u l\n",
       "          w\u001b[35m:f32[1,2048]\u001b[39m = broadcast_in_dim[\n",
       "            broadcast_dimensions=(1,)\n",
       "            shape=(1, 2048)\n",
       "          ] m\n",
       "          x\u001b[35m:f32[128,2048]\u001b[39m = add v w\n",
       "          y\u001b[35m:f32[128,2048]\u001b[39m = max x 0.0\n",
       "          z\u001b[35m:f32[128,10]\u001b[39m = dot_general[dimension_numbers=(([1], [0]), ([], []))] y\n",
       "            n\n",
       "          ba\u001b[35m:f32[1,10]\u001b[39m = broadcast_in_dim[\n",
       "            broadcast_dimensions=(1,)\n",
       "            shape=(1, 10)\n",
       "          ] o\n",
       "          bb\u001b[35m:f32[128,10]\u001b[39m = add z ba\n",
       "          _\u001b[35m:f32[128,10]\u001b[39m = max bb 0.0\n",
       "          bc\u001b[35m:f32[128,10]\u001b[39m = sub bb q\n",
       "          bd\u001b[35m:f32[128,10]\u001b[39m = integer_pow[y=2] bc\n",
       "          be\u001b[35m:f32[]\u001b[39m = reduce_sum[axes=(0, 1)] bd\n",
       "        \u001b[34m\u001b[22m\u001b[1min \u001b[39m\u001b[22m\u001b[22m(be,) }\n",
       "      name=loss\n",
       "    ] a b c d e f g h\n",
       "  \u001b[34m\u001b[22m\u001b[1min \u001b[39m\u001b[22m\u001b[22m(i,) }"
      ]
     },
     "execution_count": 100,
     "metadata": {},
     "output_type": "execute_result"
    }
   ],
   "source": [
    "# or our lovely loss_jit\n",
    "from jax import make_jaxpr\n",
    "\n",
    "make_jaxpr(loss_jit)(params, batch)"
   ]
  },
  {
   "cell_type": "code",
   "execution_count": 101,
   "metadata": {},
   "outputs": [
    {
     "name": "stdout",
     "output_type": "stream",
     "text": [
      "1\n"
     ]
    }
   ],
   "source": [
    "print(1)"
   ]
  },
  {
   "cell_type": "markdown",
   "metadata": {},
   "source": [
    "### Scale beyond a single core"
   ]
  },
  {
   "cell_type": "code",
   "execution_count": 102,
   "metadata": {},
   "outputs": [],
   "source": [
    "from jax import pmap"
   ]
  },
  {
   "cell_type": "code",
   "execution_count": 103,
   "metadata": {},
   "outputs": [
    {
     "data": {
      "text/plain": [
       "[TpuDevice(id=0, process_index=0, coords=(0,0,0), core_on_chip=0),\n",
       " TpuDevice(id=1, process_index=0, coords=(1,0,0), core_on_chip=0),\n",
       " TpuDevice(id=2, process_index=0, coords=(0,1,0), core_on_chip=0),\n",
       " TpuDevice(id=3, process_index=0, coords=(1,1,0), core_on_chip=0)]"
      ]
     },
     "execution_count": 103,
     "metadata": {},
     "output_type": "execute_result"
    }
   ],
   "source": [
    "jax.devices()"
   ]
  },
  {
   "cell_type": "code",
   "execution_count": 106,
   "metadata": {},
   "outputs": [
    {
     "data": {
      "text/plain": [
       "(4, 5000, 5000)"
      ]
     },
     "execution_count": 106,
     "metadata": {},
     "output_type": "execute_result"
    }
   ],
   "source": [
    "devices_count = len(jax.devices())\n",
    "keys = random.split(random.PRNGKey(0), devices_count)\n",
    "mats = pmap(lambda key: random.normal(key, (5000, 5000)))(keys)\n",
    "mats.shape\n"
   ]
  },
  {
   "cell_type": "code",
   "execution_count": 116,
   "metadata": {},
   "outputs": [
    {
     "data": {
      "text/plain": [
       "Array([[[ 0.33115426,  2.0100582 , -0.92818975, ...,  1.4170471 ,\n",
       "         -0.8940095 ,  0.95414025],\n",
       "        [ 0.5721803 , -2.317884  , -1.6231765 , ...,  0.36146805,\n",
       "          0.8842531 ,  0.44257852],\n",
       "        [-0.4527962 , -0.47919646, -1.1578542 , ...,  0.37765214,\n",
       "          0.3123318 , -1.0675764 ],\n",
       "        ...,\n",
       "        [ 1.671445  , -0.97900814,  0.5292031 , ...,  1.3720388 ,\n",
       "         -0.03712047,  0.57249427],\n",
       "        [ 0.43501183, -0.26266012, -0.2321664 , ...,  0.16004506,\n",
       "         -0.5419324 ,  0.7977278 ],\n",
       "        [-0.01620498,  0.5275232 , -0.79550254, ..., -1.312498  ,\n",
       "          0.44796705,  1.4003522 ]],\n",
       "\n",
       "       [[ 0.82516015, -0.51759785,  0.73790246, ..., -1.0041524 ,\n",
       "          2.597614  ,  0.38071403],\n",
       "        [-0.84128743, -0.57002836, -1.1675981 , ...,  0.7680163 ,\n",
       "          0.14022161,  1.7798967 ],\n",
       "        [-1.0383837 ,  0.428946  ,  0.1105013 , ...,  1.1806777 ,\n",
       "          0.29561356,  1.0993401 ],\n",
       "        ...,\n",
       "        [-2.4161656 , -1.3229743 ,  0.3560398 , ..., -0.98966354,\n",
       "         -2.2074964 , -2.2171836 ],\n",
       "        [-1.4694623 ,  0.33093396, -2.7673254 , ..., -1.546367  ,\n",
       "         -0.7083705 ,  0.219127  ],\n",
       "        [ 0.38657874,  0.9798802 ,  1.6575023 , ...,  1.5793462 ,\n",
       "          2.9444678 , -0.17216358]],\n",
       "\n",
       "       [[ 0.3314216 ,  0.15254728, -2.3361037 , ..., -0.33316168,\n",
       "         -1.0155594 ,  0.6554512 ],\n",
       "        [ 0.19248036,  0.2260765 , -1.011821  , ..., -1.1811582 ,\n",
       "          1.7373579 ,  0.7216078 ],\n",
       "        [ 0.14725444,  1.0189837 , -1.2122277 , ..., -0.51432455,\n",
       "          0.30267048, -0.12991829],\n",
       "        ...,\n",
       "        [ 0.3410196 ,  1.0887439 , -1.3644577 , ..., -0.90959364,\n",
       "         -1.1373012 , -0.7553578 ],\n",
       "        [ 0.13895097, -1.0676752 , -3.4918132 , ..., -0.8983765 ,\n",
       "         -1.8557346 , -1.4896411 ],\n",
       "        [-0.91312706, -1.0864514 , -1.2541782 , ..., -1.4621276 ,\n",
       "         -0.26209876, -0.42170072]],\n",
       "\n",
       "       [[-0.42757848,  0.16508499,  0.63381094, ..., -0.40616834,\n",
       "         -1.558287  ,  0.6003268 ],\n",
       "        [-0.7462869 , -0.30857733, -0.71489704, ...,  1.20504   ,\n",
       "          0.5227047 , -0.77936393],\n",
       "        [-0.20346382, -0.3630872 , -0.1233788 , ..., -0.26124716,\n",
       "          0.57309455,  0.9151204 ],\n",
       "        ...,\n",
       "        [ 0.7543504 ,  0.36200914, -0.99430776, ..., -0.0281402 ,\n",
       "         -0.2696884 ,  0.51039463],\n",
       "        [-1.1364703 , -0.73646957, -1.4867887 , ..., -0.55707085,\n",
       "          0.09539612,  0.88833326],\n",
       "        [ 0.1860812 ,  1.4210341 , -0.49414808, ..., -0.35014752,\n",
       "          0.5291197 ,  0.21117322]]], dtype=float32)"
      ]
     },
     "execution_count": 116,
     "metadata": {},
     "output_type": "execute_result"
    }
   ],
   "source": [
    "mats"
   ]
  },
  {
   "cell_type": "code",
   "execution_count": 112,
   "metadata": {},
   "outputs": [
    {
     "name": "stdout",
     "output_type": "stream",
     "text": [
      "168 ms ± 5.67 ms per loop (mean ± std. dev. of 5 runs, 5 loops each)\n"
     ]
    }
   ],
   "source": [
    "%timeit -n 5 -r 5 jnp.dot(mats[0], mats[0]).block_until_ready()"
   ]
  },
  {
   "cell_type": "code",
   "execution_count": 113,
   "metadata": {},
   "outputs": [
    {
     "name": "stdout",
     "output_type": "stream",
     "text": [
      "2.08 ms ± 337 µs per loop (mean ± std. dev. of 5 runs, 5 loops each)\n"
     ]
    }
   ],
   "source": [
    "%timeit -n 5 -r 5 pmap(jnp.dot)(mats, mats).block_until_ready()\n"
   ]
  },
  {
   "cell_type": "code",
   "execution_count": 115,
   "metadata": {},
   "outputs": [
    {
     "name": "stdout",
     "output_type": "stream",
     "text": [
      "[0.         0.16666667 0.33333334 0.5       ]\n",
      "1.0\n"
     ]
    }
   ],
   "source": [
    "from functools import partial\n",
    "from jax import lax\n",
    "\n",
    "@partial(pmap, axis_name=\"i\")\n",
    "def normalize(x):\n",
    "    return x / lax.psum(x, 'i')\n",
    "\n",
    "y = normalize(jnp.arange(4, ))\n",
    "print(y)\n",
    "print(y.sum())"
   ]
  },
  {
   "cell_type": "markdown",
   "metadata": {},
   "source": [
    "Using Pjit (deprecated) you can scale to all accelerators"
   ]
  },
  {
   "cell_type": "code",
   "execution_count": 119,
   "metadata": {},
   "outputs": [
    {
     "name": "stdout",
     "output_type": "stream",
     "text": [
      "[ 0.5  2.   4.   6.   8.  10.  12.  10. ]\n"
     ]
    }
   ],
   "source": [
    "import jax\n",
    "import jax.numpy as jnp\n",
    "import numpy as np\n",
    "from jax.sharding import Mesh, PartitionSpec as P\n",
    "from jax.experimental.pjit import pjit\n",
    "\n",
    "x = jnp.arange(8, dtype=jnp.float32)\n",
    "f = pjit(lambda x: jax.numpy.convolve(x, jnp.asarray([0.5, 1.0, 0.5]), 'same'),\n",
    "         in_shardings=None, out_shardings=P('devices'))\n",
    "with Mesh(np.array(jax.devices()), ('devices',)):\n",
    "   print(f(x))"
   ]
  },
  {
   "cell_type": "code",
   "execution_count": 120,
   "metadata": {},
   "outputs": [],
   "source": [
    "from jax.experimental.mesh_utils import create_device_mesh"
   ]
  },
  {
   "cell_type": "code",
   "execution_count": 121,
   "metadata": {},
   "outputs": [],
   "source": [
    "layer_sizes = [2048, 8192, 2048]\n",
    "batch_size = 4096\n",
    "\n",
    "params, batch = init_model(random.PRNGKey(0), layer_sizes, batch_sizes)"
   ]
  },
  {
   "cell_type": "code",
   "execution_count": 134,
   "metadata": {},
   "outputs": [
    {
     "name": "stdout",
     "output_type": "stream",
     "text": [
      "compiled\n",
      "711 µs ± 63.2 µs per loop (mean ± std. dev. of 10 runs, 10 loops each)\n"
     ]
    }
   ],
   "source": [
    "gradfun = jit(grad(loss))\n",
    "jax.block_until_ready(gradfun(params, batch))\n",
    "%timeit -n 10 -r 10 jax.block_until_ready(gradfun(params, batch))"
   ]
  },
  {
   "cell_type": "code",
   "execution_count": 125,
   "metadata": {},
   "outputs": [],
   "source": [
    "# This creates a vector of the physical devices (TPUs/GPUs) - it can be an NDArray - in this example we have only one dimenion called 'mesh_x'\n",
    "mesh = Mesh(create_device_mesh((devices_count,)), ('mesh_x',))"
   ]
  },
  {
   "cell_type": "code",
   "execution_count": 130,
   "metadata": {},
   "outputs": [],
   "source": [
    "# As this is a data parallelism example, the sharding happens only for data (batches) and not the parameters:\n",
    "batch_sharding = P('mesh_x', None)\n",
    "params_sharding = None"
   ]
  },
  {
   "cell_type": "code",
   "execution_count": 127,
   "metadata": {},
   "outputs": [],
   "source": [
    "gradfast = pjit(grad(loss), \n",
    "                in_axis_resources=(params_sharding, batch_sharding), \n",
    "                out_axis_resources=params_sharding)"
   ]
  },
  {
   "cell_type": "code",
   "execution_count": 128,
   "metadata": {},
   "outputs": [
    {
     "name": "stdout",
     "output_type": "stream",
     "text": [
      "compiled\n",
      "(2048, 8192)\n"
     ]
    }
   ],
   "source": [
    "with mesh:\n",
    "    print(gradfast(params, batch)[0][0].shape)"
   ]
  },
  {
   "cell_type": "code",
   "execution_count": 131,
   "metadata": {},
   "outputs": [],
   "source": [
    "def shard(x, spec):\n",
    "    sharder = pjit(lambda x: x, in_axis_resources=None, out_axis_resources=spec)\n",
    "    return sharder(x)\n",
    "\n",
    "with mesh:\n",
    "    sharded_batch = shard(batch, batch_sharding)\n",
    "    sharded_params = shard(params, params_sharding)"
   ]
  },
  {
   "cell_type": "code",
   "execution_count": 133,
   "metadata": {},
   "outputs": [
    {
     "name": "stdout",
     "output_type": "stream",
     "text": [
      "6.19 ms ± 83.6 µs per loop (mean ± std. dev. of 10 runs, 10 loops each)\n"
     ]
    }
   ],
   "source": [
    "with mesh:\n",
    "    %timeit -n 10 -r 10 jax.block_until_ready(gradfast(sharded_params, sharded_batch))\n",
    "    "
   ]
  },
  {
   "cell_type": "code",
   "execution_count": null,
   "metadata": {},
   "outputs": [],
   "source": [
    "mesh = Mesh(create_device_mesh())"
   ]
  },
  {
   "cell_type": "code",
   "execution_count": null,
   "metadata": {},
   "outputs": [],
   "source": []
  }
 ],
 "metadata": {
  "kernelspec": {
   "display_name": "Python 3",
   "language": "python",
   "name": "python3"
  },
  "language_info": {
   "codemirror_mode": {
    "name": "ipython",
    "version": 3
   },
   "file_extension": ".py",
   "mimetype": "text/x-python",
   "name": "python",
   "nbconvert_exporter": "python",
   "pygments_lexer": "ipython3",
   "version": "3.8.10"
  }
 },
 "nbformat": 4,
 "nbformat_minor": 2
}
